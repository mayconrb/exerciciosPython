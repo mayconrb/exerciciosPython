{
 "cells": [
  {
   "cell_type": "markdown",
   "metadata": {},
   "source": [
    "### Funções\n",
    "- Reutilizar códigos\n",
    "- Preferência para códigos (programas) menores, ficando mais legível e fábil de depurar"
   ]
  },
  {
   "cell_type": "code",
   "execution_count": 2,
   "metadata": {},
   "outputs": [],
   "source": [
    "# criando uma função\n",
    "\n",
    "def rocket_parts():\n",
    "    print(\"payload, porpellant, structure\")"
   ]
  },
  {
   "cell_type": "markdown",
   "metadata": {},
   "source": [
    "Nesse caso rocket_parts é o nome da função. Os Parenteses vazios que dizer que essa função não requer nenhum argumento, seguido do código da função.\n",
    "\n",
    "Para usa-la, basta chamar pelo nome seguida dos parenteses"
   ]
  },
  {
   "cell_type": "code",
   "execution_count": 3,
   "metadata": {},
   "outputs": [
    {
     "name": "stdout",
     "output_type": "stream",
     "text": [
      "payload, porpellant, structure\n"
     ]
    }
   ],
   "source": [
    "rocket_parts()"
   ]
  },
  {
   "cell_type": "markdown",
   "metadata": {},
   "source": [
    "A função rocket_parts() não recebe nenhum argumento e imprime uma instrução. Se precisar usar o valor dela, deve atribuir uma variavel a função."
   ]
  },
  {
   "cell_type": "code",
   "execution_count": 5,
   "metadata": {},
   "outputs": [
    {
     "name": "stdout",
     "output_type": "stream",
     "text": [
      "payload, porpellant, structure\n"
     ]
    }
   ],
   "source": [
    "output = rocket_parts()"
   ]
  },
  {
   "cell_type": "code",
   "execution_count": 6,
   "metadata": {},
   "outputs": [
    {
     "data": {
      "text/plain": [
       "True"
      ]
     },
     "execution_count": 6,
     "metadata": {},
     "output_type": "execute_result"
    }
   ],
   "source": [
    "output is None"
   ]
  },
  {
   "cell_type": "markdown",
   "metadata": {},
   "source": [
    "Pode parecer surpreendente que o valor da variável output seja None. Isso ocorre porque a função rocket_parts() não retornou um valor explicitamente. No Python, se uma função não retornar um valor explicitamente, ela retornará implicitamenteNone. Atualizar a função para retornar a cadeia de caracteres em vez de imprimi-la faz com que a variável output tenha um valor diferente:"
   ]
  },
  {
   "cell_type": "code",
   "execution_count": 10,
   "metadata": {},
   "outputs": [
    {
     "data": {
      "text/plain": [
       "'payload, propellant, structure'"
      ]
     },
     "execution_count": 10,
     "metadata": {},
     "output_type": "execute_result"
    }
   ],
   "source": [
    "def rocket_parts():\n",
    "    return \"payload, propellant, structure\"\n",
    "\n",
    "output = rocket_parts()\n",
    "\n",
    "output\n"
   ]
  },
  {
   "cell_type": "code",
   "execution_count": 11,
   "metadata": {},
   "outputs": [
    {
     "data": {
      "text/plain": [
       "True"
      ]
     },
     "execution_count": 11,
     "metadata": {},
     "output_type": "execute_result"
    }
   ],
   "source": [
    "#Argumento any verfifica se o objeto é iterável\n",
    "any([True, False, False])"
   ]
  },
  {
   "cell_type": "code",
   "execution_count": 12,
   "metadata": {},
   "outputs": [
    {
     "data": {
      "text/plain": [
       "False"
      ]
     },
     "execution_count": 12,
     "metadata": {},
     "output_type": "execute_result"
    }
   ],
   "source": [
    "#Argumento any objeto não é iterável\n",
    "any([False, False, False])"
   ]
  },
  {
   "cell_type": "code",
   "execution_count": 13,
   "metadata": {},
   "outputs": [
    {
     "ename": "TypeError",
     "evalue": "any() takes exactly one argument (0 given)",
     "output_type": "error",
     "traceback": [
      "\u001b[1;31m---------------------------------------------------------------------------\u001b[0m",
      "\u001b[1;31mTypeError\u001b[0m                                 Traceback (most recent call last)",
      "Cell \u001b[1;32mIn[13], line 2\u001b[0m\n\u001b[0;32m      1\u001b[0m \u001b[38;5;66;03m#Error any() sem argumento\u001b[39;00m\n\u001b[1;32m----> 2\u001b[0m \u001b[38;5;28;43many\u001b[39;49m\u001b[43m(\u001b[49m\u001b[43m)\u001b[49m\n",
      "\u001b[1;31mTypeError\u001b[0m: any() takes exactly one argument (0 given)"
     ]
    }
   ],
   "source": [
    "#Error any() sem argumento\n",
    "any()"
   ]
  },
  {
   "cell_type": "code",
   "execution_count": 15,
   "metadata": {},
   "outputs": [
    {
     "data": {
      "text/plain": [
       "''"
      ]
     },
     "execution_count": 15,
     "metadata": {},
     "output_type": "execute_result"
    }
   ],
   "source": [
    "#Argumento str cria uma cadeia de caracteres\n",
    "# str() retorna vazio\n",
    "str()"
   ]
  },
  {
   "cell_type": "code",
   "execution_count": 17,
   "metadata": {},
   "outputs": [
    {
     "data": {
      "text/plain": [
       "'15'"
      ]
     },
     "execution_count": 17,
     "metadata": {},
     "output_type": "execute_result"
    }
   ],
   "source": [
    "#enquanto que srt(15) retorna '15'\n",
    "str(15)"
   ]
  },
  {
   "cell_type": "markdown",
   "metadata": {},
   "source": [
    "### Como exigir argumentos\n",
    "Se você estiver realizando um piloto de um foguete, uma função sem entradas obrigatórias seria como um computador com um botão para informar o tempo. Se você pressionar o botão, uma voz computadorizada informará o tempo. Mas uma entrada obrigatória pode ser o destino, por exemplo, para calcular a distância do percurso. As entradas obrigatórias são chamadas de argumentos da função.\n",
    "\n",
    "Para exigir um argumento, coloque-o entre parênteses:"
   ]
  },
  {
   "cell_type": "code",
   "execution_count": 21,
   "metadata": {},
   "outputs": [],
   "source": [
    "#Criando função com argumentos obrigatórios\n",
    "def distance_from_earth(destination):\n",
    "    if destination == \"Moon\":\n",
    "        return \"238,855\"\n",
    "    else:\n",
    "        return \"Não é possível calcular esse destino!\""
   ]
  },
  {
   "cell_type": "code",
   "execution_count": 22,
   "metadata": {},
   "outputs": [
    {
     "ename": "TypeError",
     "evalue": "distance_from_earth() missing 1 required positional argument: 'destination'",
     "output_type": "error",
     "traceback": [
      "\u001b[1;31m---------------------------------------------------------------------------\u001b[0m",
      "\u001b[1;31mTypeError\u001b[0m                                 Traceback (most recent call last)",
      "Cell \u001b[1;32mIn[22], line 2\u001b[0m\n\u001b[0;32m      1\u001b[0m \u001b[38;5;66;03m#chamando função sem argumentos ERROR\u001b[39;00m\n\u001b[1;32m----> 2\u001b[0m \u001b[43mdistance_from_earth\u001b[49m\u001b[43m(\u001b[49m\u001b[43m)\u001b[49m\n",
      "\u001b[1;31mTypeError\u001b[0m: distance_from_earth() missing 1 required positional argument: 'destination'"
     ]
    }
   ],
   "source": [
    "#chamando função sem argumentos ERROR\n",
    "distance_from_earth()"
   ]
  },
  {
   "cell_type": "markdown",
   "metadata": {},
   "source": [
    "O Python gera TypeError com uma mensagem de erro que diz que a função requer um argumento chamado destination. Se o computador do foguete precisar computar a distância do percurso até um destino, ele deverá solicitar o destino como obrigatório. O código de exemplo tem dois caminhos como resposta: um é a Lua e o outro é qualquer outro lugar. Use a Lua como entrada para obter uma resposta:"
   ]
  },
  {
   "cell_type": "code",
   "execution_count": 23,
   "metadata": {},
   "outputs": [
    {
     "data": {
      "text/plain": [
       "'238,855'"
      ]
     },
     "execution_count": 23,
     "metadata": {},
     "output_type": "execute_result"
    }
   ],
   "source": [
    "distance_from_earth(\"Moon\")"
   ]
  },
  {
   "cell_type": "code",
   "execution_count": 24,
   "metadata": {},
   "outputs": [
    {
     "data": {
      "text/plain": [
       "'Não é possível calcular esse destino!'"
      ]
     },
     "execution_count": 24,
     "metadata": {},
     "output_type": "execute_result"
    }
   ],
   "source": [
    "#utilizando outro argumento para verificar comportamento\n",
    "distance_from_earth(\"Saturn\")"
   ]
  },
  {
   "cell_type": "markdown",
   "metadata": {},
   "source": [
    "### Vários argumentos obrigatórios\n",
    "\n",
    "Para usar vários argumentos, você deve separá-los por vírgula. Você criará uma função capaz de calcular quantos dias levará para alcançar um destino com base na distância e na velocidade constante empregada:"
   ]
  },
  {
   "cell_type": "code",
   "execution_count": 26,
   "metadata": {},
   "outputs": [],
   "source": [
    "def days_to_complete(distance, speed):\n",
    "    hours = distance/speed\n",
    "    return hours/24"
   ]
  },
  {
   "cell_type": "code",
   "execution_count": 27,
   "metadata": {},
   "outputs": [
    {
     "data": {
      "text/plain": [
       "132.69722222222222"
      ]
     },
     "execution_count": 27,
     "metadata": {},
     "output_type": "execute_result"
    }
   ],
   "source": [
    "days_to_complete(238855, 75)"
   ]
  },
  {
   "cell_type": "markdown",
   "metadata": {},
   "source": [
    "Funções como argumentos"
   ]
  },
  {
   "cell_type": "code",
   "execution_count": 28,
   "metadata": {},
   "outputs": [
    {
     "data": {
      "text/plain": [
       "133"
      ]
     },
     "execution_count": 28,
     "metadata": {},
     "output_type": "execute_result"
    }
   ],
   "source": [
    "total_days = days_to_complete(238855, 75)\n",
    "round(total_days)"
   ]
  },
  {
   "cell_type": "markdown",
   "metadata": {},
   "source": [
    "No entanto, um padrão útil é passar diretamente funções para outras funções em vez de atribuir os valores retornados:"
   ]
  },
  {
   "cell_type": "code",
   "execution_count": 30,
   "metadata": {},
   "outputs": [
    {
     "data": {
      "text/plain": [
       "133"
      ]
     },
     "execution_count": 30,
     "metadata": {},
     "output_type": "execute_result"
    }
   ],
   "source": [
    "round(days_to_complete(238855, 75))"
   ]
  },
  {
   "cell_type": "markdown",
   "metadata": {},
   "source": [
    "# Exercicio de exemplo"
   ]
  },
  {
   "cell_type": "code",
   "execution_count": 2,
   "metadata": {},
   "outputs": [],
   "source": [
    "def generate_report(main_tank, external_tank, hydrogen_tank):\n",
    "    output = f\"\"\"\n",
    "    Fuel Report:\n",
    "    Main Tank {main_tank}\n",
    "    External Tank {external_tank}\n",
    "    Hydrogen Tank {hydrogen_tank}\n",
    "    \"\"\"\n",
    "    print(output)"
   ]
  },
  {
   "cell_type": "code",
   "execution_count": 3,
   "metadata": {},
   "outputs": [
    {
     "name": "stdout",
     "output_type": "stream",
     "text": [
      "\n",
      "    Fuel Report:\n",
      "    Main Tank 80\n",
      "    External Tank 70\n",
      "    Hydrogen Tank 75\n",
      "    \n"
     ]
    }
   ],
   "source": [
    "generate_report(80, 70, 75)"
   ]
  },
  {
   "cell_type": "markdown",
   "metadata": {},
   "source": [
    "### Usar argumentos de palavra-chave no Python\n",
    "\n",
    "Os argumentos opcionais exigem que um valor padrão seja atribuído a eles. Esses argumentos designados são chamados de argumentos de palavra-chave. Os valores dos argumentos de palavra-chave devem ser definidos nas próprias funções. Quando você chama uma função definida com argumentos de palavra-chave, não é necessário especificar esses parâmetros.\n",
    "\n",
    "A missão Apollo 11 demorou cerca de 51 horas para chegar à Lua. Vamos criar uma função que retorna o tempo estimado de chegada usando o mesmo valor da missão Apollo 11 como padrão:"
   ]
  },
  {
   "cell_type": "code",
   "execution_count": 6,
   "metadata": {},
   "outputs": [],
   "source": [
    "from datetime import timedelta, datetime\n",
    "\n",
    "def arrival_time(hours=51):\n",
    "    now = datetime.now()\n",
    "    arrival = now + timedelta(hours=hours)\n",
    "    return arrival.strftime(\"Arrival: %A %H:%M\")"
   ]
  },
  {
   "cell_type": "markdown",
   "metadata": {},
   "source": [
    "A função usa o modulo _datetime_ para determinar a hora atual. Ela usa _timedelta_ para permitir a operação de adição que resulta em um novo objeto de hora. Depois de computar esse resultado, ele retorna a estimativa de _arrival_ formatada como uma cadeia de caracteres."
   ]
  },
  {
   "cell_type": "code",
   "execution_count": 7,
   "metadata": {},
   "outputs": [
    {
     "data": {
      "text/plain": [
       "'Arrival: Friday 01:33'"
      ]
     },
     "execution_count": 7,
     "metadata": {},
     "output_type": "execute_result"
    }
   ],
   "source": [
    "arrival_time()"
   ]
  },
  {
   "cell_type": "code",
   "execution_count": 8,
   "metadata": {},
   "outputs": [
    {
     "data": {
      "text/plain": [
       "'Arrival: Tuesday 22:33'"
      ]
     },
     "execution_count": 8,
     "metadata": {},
     "output_type": "execute_result"
    }
   ],
   "source": [
    "arrival_time(hours=0)"
   ]
  },
  {
   "cell_type": "markdown",
   "metadata": {},
   "source": [
    "### Combinação de argumentos comuns e argumentos de palavra-chave\n",
    "\n",
    "Às vezes, uma função precisa de uma combinação de argumentos comuns e argumentos de palavra-chave. No Python, essa combinação segue uma ordem específica. Os argumentos comuns devem ser sempre declarados primeiro, seguidos pelos argumentos de palavra-chave.\n",
    "\n",
    "Atualize a função arrival_time() para receber um argumento obrigatório, que é o nome do destino:"
   ]
  },
  {
   "cell_type": "code",
   "execution_count": 9,
   "metadata": {},
   "outputs": [],
   "source": [
    "from datetime import timedelta, datetime\n",
    "\n",
    "def arrival_time(destination, hours = 51):\n",
    "    now = datetime.now()\n",
    "    arrival = now + timedelta(hours = hours)\n",
    "    return arrival.strftime(f\"{destination} Arrival: %A %H:%M\")"
   ]
  },
  {
   "cell_type": "code",
   "execution_count": 10,
   "metadata": {},
   "outputs": [
    {
     "ename": "TypeError",
     "evalue": "arrival_time() missing 1 required positional argument: 'destination'",
     "output_type": "error",
     "traceback": [
      "\u001b[1;31m---------------------------------------------------------------------------\u001b[0m",
      "\u001b[1;31mTypeError\u001b[0m                                 Traceback (most recent call last)",
      "Cell \u001b[1;32mIn[10], line 1\u001b[0m\n\u001b[1;32m----> 1\u001b[0m \u001b[43marrival_time\u001b[49m\u001b[43m(\u001b[49m\u001b[43m)\u001b[49m\n",
      "\u001b[1;31mTypeError\u001b[0m: arrival_time() missing 1 required positional argument: 'destination'"
     ]
    }
   ],
   "source": [
    "arrival_time()"
   ]
  },
  {
   "cell_type": "code",
   "execution_count": 11,
   "metadata": {},
   "outputs": [
    {
     "data": {
      "text/plain": [
       "'Moon Arrival: Friday 01:37'"
      ]
     },
     "execution_count": 11,
     "metadata": {},
     "output_type": "execute_result"
    }
   ],
   "source": [
    "arrival_time(\"Moon\")"
   ]
  },
  {
   "cell_type": "markdown",
   "metadata": {},
   "source": [
    "Também pode passar mais de dois valores, mas é preciso separá-los por vírgula. Leva cerca de 8 minutos (0,13 horas) para chegar a órbita, portanto, use esse valor como argumento:"
   ]
  },
  {
   "cell_type": "code",
   "execution_count": 12,
   "metadata": {},
   "outputs": [
    {
     "data": {
      "text/plain": [
       "'Orbit Arrival: Tuesday 22:45'"
      ]
     },
     "execution_count": 12,
     "metadata": {},
     "output_type": "execute_result"
    }
   ],
   "source": [
    "arrival_time(\"Orbit\", hours=0.13)"
   ]
  },
  {
   "cell_type": "markdown",
   "metadata": {},
   "source": [
    "### Usar um número variável de argumentos no Python\n",
    "\n",
    "No Python, você pode usar qualquer número de argumentos e argumentos de palavra-chave sem declarar nenhum deles. Essa capacidade é útil quando uma função pode receber um número desconhecido de entradas.\n",
    "\n",
    "### Número variável de argumentos\n",
    "\n",
    "Os argumentos das funções são necessários. Mas quando você estiver usando um número variável de argumentos, a função permitirá que qualquer número de entradas (incluindo 0) seja passado. A sintaxe para usar um número variável de argumentos é inserir como prefixo um asterisco (*) antes do nome do argumento.\n",
    "\n",
    "A seguinte função imprime os argumentos recebidos:"
   ]
  },
  {
   "cell_type": "code",
   "execution_count": 13,
   "metadata": {},
   "outputs": [],
   "source": [
    "def variable_lenght(*args):\n",
    "    print(args)"
   ]
  },
  {
   "cell_type": "code",
   "execution_count": 19,
   "metadata": {},
   "outputs": [
    {
     "name": "stdout",
     "output_type": "stream",
     "text": [
      "()\n"
     ]
    }
   ],
   "source": [
    "variable_lenght()"
   ]
  },
  {
   "cell_type": "markdown",
   "metadata": {},
   "source": [
    "Não é necessário chamar o número variável de argumentos args. Você pode usar qualquer nome de variável válido. Embora seja comum ver *args ou *a, você deve tentar usar a mesma convenção em todo o projeto.\n",
    "\n",
    "Nesse caso, *args está instruindo a função para aceitar qualquer número de argumentos (inclusive 0). Dentro da função, agora args está disponível como a variável que contém todos os argumentos como uma tupla. Experimente a função passando qualquer número ou tipo de argumentos:"
   ]
  },
  {
   "cell_type": "code",
   "execution_count": 23,
   "metadata": {},
   "outputs": [
    {
     "name": "stdout",
     "output_type": "stream",
     "text": [
      "()\n",
      "('one', 'two')\n",
      "(None,)\n"
     ]
    },
    {
     "data": {
      "text/plain": [
       "(None,)"
      ]
     },
     "execution_count": 23,
     "metadata": {},
     "output_type": "execute_result"
    }
   ],
   "source": [
    "variable_lenght()\n",
    "()\n",
    "variable_lenght(\"one\", \"two\")\n",
    "(\"one\", \"two\")\n",
    "variable_lenght(None)\n",
    "(None,)"
   ]
  },
  {
   "cell_type": "markdown",
   "metadata": {},
   "source": [
    "Um foguete passa por várias etapas antes do lançamento. Dependendo das tarefas ou de eventuais atrasos, essas etapas podem levar mais tempo do que o planejado. Vamos criar uma função de comprimento variável que pode calcular quantos minutos até o lançamento, considerando quanto tempo cada etapa vai levar:"
   ]
  },
  {
   "cell_type": "code",
   "execution_count": 27,
   "metadata": {},
   "outputs": [],
   "source": [
    "def sequence_time(*args):\n",
    "    total_minutes = sum(args)\n",
    "    if total_minutes < 60:\n",
    "        return f'Total time to launch is {total_minutes} minutes.'\n",
    "    else:\n",
    "        return f'Total time to launch is {total_minutes/60} hours'"
   ]
  },
  {
   "cell_type": "code",
   "execution_count": 29,
   "metadata": {},
   "outputs": [
    {
     "data": {
      "text/plain": [
       "'Total time to launch is 1.6333333333333333 hours'"
      ]
     },
     "execution_count": 29,
     "metadata": {},
     "output_type": "execute_result"
    }
   ],
   "source": [
    "sequence_time(50, 30, 18)"
   ]
  },
  {
   "cell_type": "markdown",
   "metadata": {},
   "source": [
    "### Número variável de argumentos de palavra-chave\n",
    "Para que uma função aceite qualquer número de argumentos de palavra-chave, use uma sintaxe semelhante. Nesse caso, são necessários dois asteriscos:"
   ]
  },
  {
   "cell_type": "code",
   "execution_count": 31,
   "metadata": {},
   "outputs": [],
   "source": [
    "def variable_lenght(**kwargs):\n",
    "    print(kwargs)"
   ]
  },
  {
   "cell_type": "code",
   "execution_count": 33,
   "metadata": {},
   "outputs": [
    {
     "name": "stdout",
     "output_type": "stream",
     "text": [
      "{'tanks': 1, 'day': 'wednesday', 'pilots': 3}\n"
     ]
    }
   ],
   "source": [
    "variable_lenght(tanks=1, day=\"wednesday\", pilots=3)\n",
    "#{'tanks':1, 'day':'wednesday', 'pilots':3}"
   ]
  },
  {
   "cell_type": "markdown",
   "metadata": {},
   "source": [
    "Nessa função, vamos usar um número variável de argumentos de palavra-chave para relatar os astronautas atribuídos à missão. Como essa função permite qualquer número de argumentos de palavra-chave, ela pode ser reutilizada, independentemente do número de astronautas atribuídos:"
   ]
  },
  {
   "cell_type": "code",
   "execution_count": 37,
   "metadata": {},
   "outputs": [],
   "source": [
    "def crew_members(**kwargs):\n",
    "    print(f'{len(kwargs)} astronautss assigned for this mission:')\n",
    "    for title, name in kwargs.items():\n",
    "        print(f'{title}: {name}')"
   ]
  },
  {
   "cell_type": "code",
   "execution_count": 38,
   "metadata": {},
   "outputs": [
    {
     "name": "stdout",
     "output_type": "stream",
     "text": [
      "3 astronautss assigned for this mission:\n",
      "captain: Neil Armstrong\n",
      "pilot: Buzz Aldrin\n",
      "command_pilot: Michael Collins\n"
     ]
    }
   ],
   "source": [
    "crew_members(captain=\"Neil Armstrong\", pilot=\"Buzz Aldrin\", command_pilot=\"Michael Collins\")"
   ]
  },
  {
   "cell_type": "code",
   "execution_count": 39,
   "metadata": {},
   "outputs": [
    {
     "ename": "SyntaxError",
     "evalue": "keyword argument repeated: pilot (3690866891.py, line 1)",
     "output_type": "error",
     "traceback": [
      "\u001b[1;36m  Cell \u001b[1;32mIn[39], line 1\u001b[1;36m\u001b[0m\n\u001b[1;33m    crew_members(captain=\"Neil Armstrong\", pilot=\"Buzz Aldrin\", pilot=\"Michal Collins\")\u001b[0m\n\u001b[1;37m                                                                ^\u001b[0m\n\u001b[1;31mSyntaxError\u001b[0m\u001b[1;31m:\u001b[0m keyword argument repeated: pilot\n"
     ]
    }
   ],
   "source": [
    "crew_members(captain=\"Neil Armstrong\", pilot=\"Buzz Aldrin\", pilot=\"Michal Collins\")"
   ]
  },
  {
   "cell_type": "markdown",
   "metadata": {},
   "source": [
    "No exercício anterior você criou um relatório para um navio com três tanques de combustível. O que acontece se o navio tiver vários tanques? Argumentos de palavras-chave podem ser uma solução perfeita para esse tipo de situação. Com argumentos de palavras-chave, um chamador pode fornecer vários valores com os quais seu código pode interagir.\n",
    "\n",
    "Este exercício é dividido em uma série de etapas. Para cada etapa, será apresentado o objetivo da etapa, seguido por uma célula vazia. Insira seu Python na célula e execute-o. A solução para cada etapa seguirá cada célula.\n",
    "\n",
    "Crie uma função de relatório de combustível atualizada\n",
    "Crie uma nova função chamada fuel_report. A função aceitará um parâmetro de argumentos de palavra-chave denominado fuel_tanks. Adicione o código para percorrer as entradas fornecidas para gerar a seguinte saída, onde nome é o nome do argumento da palavra-chave e valor é o valor:"
   ]
  },
  {
   "cell_type": "code",
   "execution_count": 40,
   "metadata": {},
   "outputs": [],
   "source": [
    "def fuel_report(**fuel_tanks):\n",
    "    for name, value in fuel_tanks.items():\n",
    "        print(f'{name}: {value}')"
   ]
  },
  {
   "cell_type": "code",
   "execution_count": 42,
   "metadata": {},
   "outputs": [
    {
     "name": "stdout",
     "output_type": "stream",
     "text": [
      "main: 50\n",
      "external: 100\n",
      "emergency: 60\n"
     ]
    }
   ],
   "source": [
    "fuel_report(main=50, external=100, emergency=60)"
   ]
  },
  {
   "cell_type": "code",
   "execution_count": null,
   "metadata": {},
   "outputs": [],
   "source": []
  }
 ],
 "metadata": {
  "kernelspec": {
   "display_name": "Python 3",
   "language": "python",
   "name": "python3"
  },
  "language_info": {
   "codemirror_mode": {
    "name": "ipython",
    "version": 3
   },
   "file_extension": ".py",
   "mimetype": "text/x-python",
   "name": "python",
   "nbconvert_exporter": "python",
   "pygments_lexer": "ipython3",
   "version": "3.12.5"
  }
 },
 "nbformat": 4,
 "nbformat_minor": 2
}
