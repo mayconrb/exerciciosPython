{
 "cells": [
  {
   "cell_type": "code",
   "execution_count": 1,
   "metadata": {},
   "outputs": [],
   "source": [
    "# criando dicionario\n",
    "\n",
    "planetas = {\n",
    "    \"nome\" : \"Terra\",\n",
    "    \"luas\" : 1\n",
    "}"
   ]
  },
  {
   "cell_type": "code",
   "execution_count": 5,
   "metadata": {},
   "outputs": [
    {
     "name": "stdout",
     "output_type": "stream",
     "text": [
      "1\n"
     ]
    }
   ],
   "source": [
    "# utiliza-se o metodo get para acessar o valor de uma chave correspondente \"luas\"\n",
    "print(planetas.get(\"luas\"))"
   ]
  },
  {
   "cell_type": "code",
   "execution_count": 11,
   "metadata": {},
   "outputs": [
    {
     "name": "stdout",
     "output_type": "stream",
     "text": [
      "Terra\n"
     ]
    }
   ],
   "source": [
    "# mesmo caso no get, porém usando o colchetes\n",
    "print(planetas[\"nome\"])"
   ]
  },
  {
   "cell_type": "code",
   "execution_count": 12,
   "metadata": {},
   "outputs": [
    {
     "name": "stdout",
     "output_type": "stream",
     "text": [
      "None\n"
     ]
    }
   ],
   "source": [
    "# derença entre get e colchetes, é que se não tiver o valor da chave\n",
    "# get retorna None e colchetes retorna KeyError.\n",
    "\n",
    "teste_get = planetas.get(\"valor1\")\n",
    "print(teste_get)"
   ]
  },
  {
   "cell_type": "code",
   "execution_count": 13,
   "metadata": {},
   "outputs": [
    {
     "ename": "KeyError",
     "evalue": "'valor2'",
     "output_type": "error",
     "traceback": [
      "\u001b[1;31m---------------------------------------------------------------------------\u001b[0m",
      "\u001b[1;31mKeyError\u001b[0m                                  Traceback (most recent call last)",
      "Cell \u001b[1;32mIn[13], line 1\u001b[0m\n\u001b[1;32m----> 1\u001b[0m teste_colchetes \u001b[38;5;241m=\u001b[39m \u001b[43mplanetas\u001b[49m\u001b[43m[\u001b[49m\u001b[38;5;124;43m\"\u001b[39;49m\u001b[38;5;124;43mvalor2\u001b[39;49m\u001b[38;5;124;43m\"\u001b[39;49m\u001b[43m]\u001b[49m \n\u001b[0;32m      2\u001b[0m \u001b[38;5;28mprint\u001b[39m(teste_colchetes)\n",
      "\u001b[1;31mKeyError\u001b[0m: 'valor2'"
     ]
    }
   ],
   "source": [
    "teste_colchetes = planetas[\"valor2\"] \n",
    "print(teste_colchetes)"
   ]
  },
  {
   "cell_type": "code",
   "execution_count": 14,
   "metadata": {},
   "outputs": [],
   "source": [
    "#metodo update atualiza o dinicionario, alterando/adicionado chave/valor ao dict\n",
    "\n",
    "planetas.update({\"nome\":\"Makemake\"})"
   ]
  },
  {
   "cell_type": "code",
   "execution_count": 17,
   "metadata": {},
   "outputs": [],
   "source": [
    "# outra forma de atualizar\n",
    "planetas['nome'] = 'Makemake'"
   ]
  },
  {
   "cell_type": "code",
   "execution_count": 18,
   "metadata": {},
   "outputs": [
    {
     "name": "stdout",
     "output_type": "stream",
     "text": [
      "{'nome': 'Makemake', 'luas': 1}\n"
     ]
    }
   ],
   "source": [
    "print(planetas)"
   ]
  },
  {
   "cell_type": "code",
   "execution_count": 20,
   "metadata": {},
   "outputs": [
    {
     "name": "stdout",
     "output_type": "stream",
     "text": [
      "{'nome': 'Jupiter', 'luas': 79}\n"
     ]
    }
   ],
   "source": [
    "planetas.update({\n",
    "    \"nome\" : \"Jupiter\",\n",
    "    \"luas\" : 79\n",
    "})\n",
    "\n",
    "print(planetas)"
   ]
  },
  {
   "cell_type": "code",
   "execution_count": 24,
   "metadata": {},
   "outputs": [
    {
     "name": "stdout",
     "output_type": "stream",
     "text": [
      "{'nome': 'Jupiter', 'luas': 79, 'periodo_orbital': 4333}\n"
     ]
    }
   ],
   "source": [
    "# incluindo chave/valor no dicionario planetas\n",
    "\n",
    "planetas[\"periodo_orbital\"] = 4333\n",
    "print(planetas)"
   ]
  },
  {
   "cell_type": "code",
   "execution_count": 25,
   "metadata": {},
   "outputs": [
    {
     "name": "stdout",
     "output_type": "stream",
     "text": [
      "{'nome': 'Jupiter', 'luas': 79}\n"
     ]
    }
   ],
   "source": [
    "#remoção de chave de um dicionario\n",
    "planetas.pop(\"periodo_orbital\")\n",
    "print(planetas)"
   ]
  },
  {
   "cell_type": "code",
   "execution_count": 26,
   "metadata": {},
   "outputs": [],
   "source": [
    "# Exercicio de fixação\n",
    "planetas = {\n",
    "    \n",
    "    \"nome\" : \"Marte\",\n",
    "    \"luas\" : 2\n",
    "\n",
    "}"
   ]
  },
  {
   "cell_type": "code",
   "execution_count": 27,
   "metadata": {},
   "outputs": [
    {
     "name": "stdout",
     "output_type": "stream",
     "text": [
      "O planela Marte possui 2 luas.\n"
     ]
    }
   ],
   "source": [
    "# print com dicionarios\n",
    "\n",
    "print(f'O planela {planetas[\"nome\"]} possui {planetas[\"luas\"]} luas.')"
   ]
  },
  {
   "cell_type": "code",
   "execution_count": 28,
   "metadata": {},
   "outputs": [
    {
     "name": "stdout",
     "output_type": "stream",
     "text": [
      "Marte tem uma circunferência polar de 6752 \n"
     ]
    }
   ],
   "source": [
    "planetas[\"Cirunferencia_km\"] = {\n",
    "    \"polar\" : 6752,\n",
    "    \"equatorial\" : 6792\n",
    "}\n",
    "\n",
    "print(f\"{planetas[\"nome\"]} tem uma circunferência polar de {planetas[\"Cirunferencia_km\"][\"polar\"]} \")"
   ]
  },
  {
   "cell_type": "code",
   "execution_count": 2,
   "metadata": {},
   "outputs": [
    {
     "name": "stdout",
     "output_type": "stream",
     "text": [
      "{'mercury': 0, 'venus': 0, 'earth': 1, 'mars': 2, 'jupiter': 79, 'saturn': 82, 'uranus': 27, 'neptune': 14, 'pluto': 5, 'haumea': 2, 'makemake': 1, 'eris': 1}\n"
     ]
    }
   ],
   "source": [
    "# Exercicio Python Dicionarios\n",
    "\n",
    "planet_moons = {\n",
    "    \"mercury\" : 0,\n",
    "    \"venus\" : 0,\n",
    "    \"earth\" : 1,\n",
    "    \"mars\" : 2,\n",
    "    \"jupiter\" : 79,\n",
    "    \"saturn\" : 82,\n",
    "    \"uranus\" : 27,\n",
    "    \"neptune\" : 14,\n",
    "    \"pluto\" : 5,\n",
    "    \"haumea\" : 2,\n",
    "    \"makemake\" : 1,\n",
    "    \"eris\" : 1\n",
    "}\n",
    "\n",
    "print(planet_moons)"
   ]
  },
  {
   "cell_type": "code",
   "execution_count": 4,
   "metadata": {},
   "outputs": [
    {
     "name": "stdout",
     "output_type": "stream",
     "text": [
      "dict_values([0, 0, 1, 2, 79, 82, 27, 14, 5, 2, 1, 1])\n",
      "12\n"
     ]
    }
   ],
   "source": [
    "# recuperando chaves e valores em lista\n",
    "\n",
    "moons = planet_moons.values()\n",
    "total_planets = len(planet_moons.keys())\n",
    "\n",
    "print(moons)\n",
    "print(total_planets)"
   ]
  },
  {
   "cell_type": "code",
   "execution_count": 5,
   "metadata": {},
   "outputs": [
    {
     "name": "stdout",
     "output_type": "stream",
     "text": [
      "Cada planeta tem um total médio de 17.833333333333332 luas!\n"
     ]
    }
   ],
   "source": [
    "# calculando o valor medio de luas\n",
    "\n",
    "total_moons = 0\n",
    "\n",
    "for moon in moons:\n",
    "    total_moons = total_moons + moon\n",
    "\n",
    "average = total_moons / total_planets\n",
    "\n",
    "print(f\"Cada planeta tem um total médio de {average} luas!\")"
   ]
  },
  {
   "cell_type": "code",
   "execution_count": null,
   "metadata": {},
   "outputs": [],
   "source": [
    "  "
   ]
  }
 ],
 "metadata": {
  "kernelspec": {
   "display_name": "Python 3",
   "language": "python",
   "name": "python3"
  },
  "language_info": {
   "codemirror_mode": {
    "name": "ipython",
    "version": 3
   },
   "file_extension": ".py",
   "mimetype": "text/x-python",
   "name": "python",
   "nbconvert_exporter": "python",
   "pygments_lexer": "ipython3",
   "version": "3.12.5"
  }
 },
 "nbformat": 4,
 "nbformat_minor": 2
}
