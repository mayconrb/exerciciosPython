{
 "cells": [
  {
   "cell_type": "markdown",
   "metadata": {},
   "source": [
    "### Exercicios While"
   ]
  },
  {
   "cell_type": "code",
   "execution_count": 2,
   "metadata": {},
   "outputs": [
    {
     "name": "stdout",
     "output_type": "stream",
     "text": [
      "['saturno', 'jupiter', 'marte', 'terra', 'orion']\n"
     ]
    }
   ],
   "source": [
    "# Criando lista de planetas\n",
    "\n",
    "novo_planeta = ''\n",
    "planetas = []\n",
    "\n",
    "while novo_planeta . lower () != 'feito' :\n",
    "    if novo_planeta :\n",
    "        planetas . append ( novo_planeta )\n",
    "    novo_planeta = input (\"Digite um novo planeta ou pronto se pronto.\")\n",
    "\n",
    "print(planetas)"
   ]
  },
  {
   "cell_type": "code",
   "execution_count": 4,
   "metadata": {},
   "outputs": [
    {
     "name": "stdout",
     "output_type": "stream",
     "text": [
      "saturno\n",
      "jupiter\n",
      "marte\n",
      "terra\n",
      "orion\n"
     ]
    }
   ],
   "source": [
    "# print para printar todas a lista\n",
    "for planeta in planetas:\n",
    "    print(planeta)\n",
    "\n"
   ]
  },
  {
   "cell_type": "code",
   "execution_count": null,
   "metadata": {},
   "outputs": [],
   "source": []
  }
 ],
 "metadata": {
  "kernelspec": {
   "display_name": "Python 3",
   "language": "python",
   "name": "python3"
  },
  "language_info": {
   "codemirror_mode": {
    "name": "ipython",
    "version": 3
   },
   "file_extension": ".py",
   "mimetype": "text/x-python",
   "name": "python",
   "nbconvert_exporter": "python",
   "pygments_lexer": "ipython3",
   "version": "3.12.5"
  }
 },
 "nbformat": 4,
 "nbformat_minor": 2
}
